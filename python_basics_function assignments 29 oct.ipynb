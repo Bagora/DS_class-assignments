{
 "cells": [
  {
   "cell_type": "markdown",
   "id": "804cb3a0",
   "metadata": {},
   "source": [
    "# python_basics_function assignments 29 oct"
   ]
  },
  {
   "cell_type": "code",
   "execution_count": 28,
   "id": "b47efae5",
   "metadata": {
    "scrolled": true
   },
   "outputs": [
    {
     "data": {
      "text/plain": [
       "20"
      ]
     },
     "execution_count": 28,
     "metadata": {},
     "output_type": "execute_result"
    }
   ],
   "source": [
    "#Q1.write a function which will find out len of a string without using an inbuilt len function\n",
    "#Ans\n",
    "#let's take a variable and create a function\n",
    "a = \"python is everywhere\"\n",
    "def count_len(a):\n",
    "    count = 0\n",
    "    for i in a:\n",
    "        count += 1\n",
    "    return count\n",
    "count_len(a)"
   ]
  },
  {
   "cell_type": "code",
   "execution_count": 65,
   "id": "b6389c7c",
   "metadata": {},
   "outputs": [
    {
     "name": "stdout",
     "output_type": "stream",
     "text": [
      "0 5\n",
      "1 8\n",
      "2 9\n",
      "3 7\n",
      "4 4\n",
      "5 1\n",
      "6 hello python\n",
      "7 ['test', 'nested list']\n",
      "8 string in list\n",
      "9 10\n",
      "10 85\n",
      "11 45\n"
     ]
    }
   ],
   "source": [
    "#Q2.Write a function which will be able to print an index of list element without using index function\n",
    "\n",
    "list  = [5,8,9,7,4,1,(\"hello python\"), ['test', 'nested list'],\"string in list\", 10,85,45]\n",
    "\n",
    "def find_index_without_using_index():\n",
    "    for i, element in enumerate(list):\n",
    "        print(i, element)\n",
    "find_index_without_using_index()"
   ]
  },
  {
   "cell_type": "code",
   "execution_count": 67,
   "id": "cab0ce96",
   "metadata": {},
   "outputs": [
    {
     "name": "stdout",
     "output_type": "stream",
     "text": [
      "Hostname DESKTOP-GHQ3LRS\n",
      "Host Ip Address 192.168.29.118\n"
     ]
    }
   ],
   "source": [
    "#Q3.write a function which will be able to print an ip address of your system.\n",
    "import socket\n",
    "def myip():\n",
    "    host_name = socket.gethostname()\n",
    "    host_ip = socket.gethostbyname(host_name)\n",
    "    print(f\"Hostname {host_name}\")\n",
    "    print(f\"Host Ip Address {host_ip}\")\n",
    "myip()"
   ]
  },
  {
   "cell_type": "code",
   "execution_count": null,
   "id": "b1c793b9",
   "metadata": {},
   "outputs": [],
   "source": [
    "#Q4.write a function which will shutdown your system\n",
    "#Let's import os\n",
    "\n",
    "import os\n",
    "def shutdown_function():\n",
    "    shutdown = input(\"Do you wish to shutdown your computer ? (yes / no): \")\n",
    "  \n",
    "    if shutdown == 'no':\n",
    "        exit()\n",
    "    else:\n",
    "        os.system(\"shutdown /s /t 1\")\n",
    "shutdown_function()"
   ]
  },
  {
   "cell_type": "code",
   "execution_count": 20,
   "id": "08e1ff3e",
   "metadata": {},
   "outputs": [
    {
     "data": {
      "text/plain": [
       "459.19999999999993"
      ]
     },
     "execution_count": 20,
     "metadata": {},
     "output_type": "execute_result"
    }
   ],
   "source": [
    "#Q5.write a function which will take input as a list with any kind of numeric value and give an out as a multiplication of \n",
    "# all the numeric data l = [3.5, 6.56, 4,5,\"sudh\" , \"ineuron\" , 'fsda bootcamp 2.0']\n",
    "#Ans\n",
    "\n",
    "def element_mul(numbers):\n",
    "    product = 1\n",
    "    for number in numbers:\n",
    "        if type(number) != str:\n",
    "            product = product * number\n",
    "    return product\n",
    "l = [3.5, 6.56, 4,5,\"sudh\" , \"ineuron\" , 'fsda bootcamp 2.0']\n",
    "element_mul(l)"
   ]
  },
  {
   "cell_type": "code",
   "execution_count": 33,
   "id": "f7901bb1",
   "metadata": {},
   "outputs": [
    {
     "name": "stdout",
     "output_type": "stream",
     "text": [
      "From : Google <no-reply@accounts.google.com>\n",
      "\n",
      "Subject : Security alert\n",
      "\n",
      "From : Google <no-reply@accounts.google.com>\n",
      "\n",
      "Subject : Security alert\n",
      "\n",
      "From : Google <no-reply@accounts.google.com>\n",
      "\n",
      "Subject : Security alert\n",
      "\n",
      "From : Google <no-reply@accounts.google.com>\n",
      "\n",
      "Subject : Security alert\n",
      "\n",
      "From : Google <no-reply@accounts.google.com>\n",
      "\n",
      "Subject : Security alert\n",
      "\n",
      "From : Google <no-reply@accounts.google.com>\n",
      "\n",
      "Subject : 2-Step Verification turned on\n",
      "\n"
     ]
    }
   ],
   "source": [
    "#Q6.write a function which will be able to read all the mails.\n",
    "#Ans\n",
    "# Python 3.8.0\n",
    "import smtplib\n",
    "import time\n",
    "import imaplib\n",
    "import email\n",
    "import traceback \n",
    "\n",
    "ORG_EMAIL = \"@gmail.com\" \n",
    "FROM_EMAIL = \"hopesmarktest\" + ORG_EMAIL \n",
    "FROM_PWD = \"eaonaqqkbomzbnut\" \n",
    "SMTP_SERVER = \"imap.gmail.com\" \n",
    "SMTP_PORT = 993\n",
    "\n",
    "def read_email_from_gmail():\n",
    "    try:\n",
    "        mail = imaplib.IMAP4_SSL(SMTP_SERVER)\n",
    "        mail.login(FROM_EMAIL,FROM_PWD)\n",
    "        mail.select('inbox')\n",
    "\n",
    "        data = mail.search(None, 'ALL')\n",
    "        mail_ids = data[1]\n",
    "        id_list = mail_ids[0].split()   \n",
    "        first_email_id = int(id_list[0])\n",
    "        latest_email_id = int(id_list[-1])\n",
    "\n",
    "        for i in range(latest_email_id,first_email_id, -1):\n",
    "            data = mail.fetch(str(i), '(RFC822)' )\n",
    "            for response_part in data:\n",
    "                arr = response_part[0]\n",
    "                if isinstance(arr, tuple):\n",
    "                    msg = email.message_from_string(str(arr[1],'utf-8'))\n",
    "                    email_subject = msg['subject']\n",
    "                    email_from = msg['from']\n",
    "                    print('From : ' + email_from + '\\n')\n",
    "                    print('Subject : ' + email_subject + '\\n')\n",
    "\n",
    "    except Exception as e:\n",
    "        traceback.print_exc() \n",
    "        print(str(e))\n",
    "\n",
    "read_email_from_gmail()"
   ]
  },
  {
   "cell_type": "code",
   "execution_count": 34,
   "id": "ee32c1aa",
   "metadata": {},
   "outputs": [],
   "source": [
    "#Q7.write a function which will be able to send a mail to anyone.\n",
    "#Ans\n",
    "import smtplib\n",
    "\n",
    "def send_mail():\n",
    "    s = smtplib.SMTP('smtp.gmail.com', 587)\n",
    "    s.starttls()\n",
    "    s.login(\"hopesmarktest@gmail.com\", \"eaonaqqkbomzbnut\")\n",
    "    message = \"This is a test message from python smtplib using function\"\n",
    "    s.sendmail(\"hopesmarktest@gmail.com\", \"query@ineuron.ai\", message)\n",
    "    s.quit()\n",
    "send_mail()"
   ]
  },
  {
   "cell_type": "code",
   "execution_count": 48,
   "id": "c0430ef5",
   "metadata": {},
   "outputs": [
    {
     "name": "stdout",
     "output_type": "stream",
     "text": [
      "This is a test file and it is readable by python\n"
     ]
    }
   ],
   "source": [
    "#Q8.write a function which will be able to read a doc/word file from your system\n",
    "#Ans\n",
    "def read_file():\n",
    "    f = open(\"test.txt\", \"r\")\n",
    "    print(f.read())\n",
    "read_file()"
   ]
  },
  {
   "cell_type": "code",
   "execution_count": null,
   "id": "2f0164a2",
   "metadata": {},
   "outputs": [],
   "source": []
  }
 ],
 "metadata": {
  "kernelspec": {
   "display_name": "Python 3 (ipykernel)",
   "language": "python",
   "name": "python3"
  },
  "language_info": {
   "codemirror_mode": {
    "name": "ipython",
    "version": 3
   },
   "file_extension": ".py",
   "mimetype": "text/x-python",
   "name": "python",
   "nbconvert_exporter": "python",
   "pygments_lexer": "ipython3",
   "version": "3.9.12"
  }
 },
 "nbformat": 4,
 "nbformat_minor": 5
}
